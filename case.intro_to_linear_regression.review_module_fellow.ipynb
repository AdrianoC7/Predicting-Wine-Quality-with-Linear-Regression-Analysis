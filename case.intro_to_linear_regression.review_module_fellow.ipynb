{
 "cells": [
  {
   "cell_type": "markdown",
   "id": "aba07489",
   "metadata": {
    "deletable": false,
    "editable": false,
    "nbgrader": {
     "cell_type": "markdown",
     "checksum": "8975b2e5dbf4cf7f99f6f49aead1a7fa",
     "grade": false,
     "grade_id": "cell-3382eccab4f96f1b",
     "locked": true,
     "schema_version": 3,
     "solution": false,
     "task": false
    }
   },
   "source": [
    "# Review module"
   ]
  },
  {
   "cell_type": "markdown",
   "id": "7c5b9a06",
   "metadata": {
    "deletable": false,
    "editable": false,
    "nbgrader": {
     "cell_type": "markdown",
     "checksum": "927b7f1d623aa0b97af4b7eac9ad3702",
     "grade": false,
     "grade_id": "cell-32a2a3d5089fbc41",
     "locked": true,
     "schema_version": 3,
     "solution": false,
     "task": false
    }
   },
   "source": [
    "**Instructions**\n",
    "\n",
    "In order to complete this review module, we recommend you follow these instructions:\n",
    "\n",
    "1. Complete the code cells provided to you in this notebook, but do **not** change the names of the variables. If you do that, the autograder will fail and you will not receive any points.\n",
    "2. Run all the answered cells before you run the testing cells. The answers must exist before they are graded!\n",
    "3. Remove from each cell the code `raise NotImplementedError()` and replace it with your implementation.\n",
    "4. Do not round any quantity."
   ]
  },
  {
   "cell_type": "markdown",
   "id": "7b821918",
   "metadata": {
    "deletable": false,
    "editable": false,
    "nbgrader": {
     "cell_type": "markdown",
     "checksum": "602a5a955638ebd1a614e962f1c52ab7",
     "grade": false,
     "grade_id": "cell-de49f21d437425a5",
     "locked": true,
     "schema_version": 3,
     "solution": false,
     "task": false
    }
   },
   "source": [
    "### Exercise 1 (1 point)\n",
    "\n",
    "The `wine` DataFrame contains data for about 1,600 Portuguese red wine samples, including quality ratings assigned by human tasters (the `quality` column) and chemical markers obtained via lab tests:"
   ]
  },
  {
   "cell_type": "code",
   "execution_count": 1,
   "id": "b73479ae",
   "metadata": {
    "deletable": false,
    "editable": false,
    "nbgrader": {
     "cell_type": "code",
     "checksum": "0466ebe641e7b74d3fc381c106dbc13b",
     "grade": false,
     "grade_id": "cell-8a28179df9794b5f",
     "locked": true,
     "schema_version": 3,
     "solution": false,
     "task": false
    }
   },
   "outputs": [
    {
     "data": {
      "text/html": [
       "<div>\n",
       "<style scoped>\n",
       "    .dataframe tbody tr th:only-of-type {\n",
       "        vertical-align: middle;\n",
       "    }\n",
       "\n",
       "    .dataframe tbody tr th {\n",
       "        vertical-align: top;\n",
       "    }\n",
       "\n",
       "    .dataframe thead th {\n",
       "        text-align: right;\n",
       "    }\n",
       "</style>\n",
       "<table border=\"1\" class=\"dataframe\">\n",
       "  <thead>\n",
       "    <tr style=\"text-align: right;\">\n",
       "      <th></th>\n",
       "      <th>fixed acidity</th>\n",
       "      <th>volatile acidity</th>\n",
       "      <th>citric acid</th>\n",
       "      <th>residual sugar</th>\n",
       "      <th>chlorides</th>\n",
       "      <th>free sulfur dioxide</th>\n",
       "      <th>total sulfur dioxide</th>\n",
       "      <th>density</th>\n",
       "      <th>pH</th>\n",
       "      <th>sulphates</th>\n",
       "      <th>alcohol</th>\n",
       "      <th>quality</th>\n",
       "    </tr>\n",
       "  </thead>\n",
       "  <tbody>\n",
       "    <tr>\n",
       "      <th>0</th>\n",
       "      <td>7.4</td>\n",
       "      <td>0.70</td>\n",
       "      <td>0.00</td>\n",
       "      <td>1.9</td>\n",
       "      <td>0.076</td>\n",
       "      <td>11.0</td>\n",
       "      <td>34.0</td>\n",
       "      <td>0.9978</td>\n",
       "      <td>3.51</td>\n",
       "      <td>0.56</td>\n",
       "      <td>9.4</td>\n",
       "      <td>5</td>\n",
       "    </tr>\n",
       "    <tr>\n",
       "      <th>1</th>\n",
       "      <td>7.8</td>\n",
       "      <td>0.88</td>\n",
       "      <td>0.00</td>\n",
       "      <td>2.6</td>\n",
       "      <td>0.098</td>\n",
       "      <td>25.0</td>\n",
       "      <td>67.0</td>\n",
       "      <td>0.9968</td>\n",
       "      <td>3.20</td>\n",
       "      <td>0.68</td>\n",
       "      <td>9.8</td>\n",
       "      <td>5</td>\n",
       "    </tr>\n",
       "    <tr>\n",
       "      <th>2</th>\n",
       "      <td>7.8</td>\n",
       "      <td>0.76</td>\n",
       "      <td>0.04</td>\n",
       "      <td>2.3</td>\n",
       "      <td>0.092</td>\n",
       "      <td>15.0</td>\n",
       "      <td>54.0</td>\n",
       "      <td>0.9970</td>\n",
       "      <td>3.26</td>\n",
       "      <td>0.65</td>\n",
       "      <td>9.8</td>\n",
       "      <td>5</td>\n",
       "    </tr>\n",
       "    <tr>\n",
       "      <th>3</th>\n",
       "      <td>11.2</td>\n",
       "      <td>0.28</td>\n",
       "      <td>0.56</td>\n",
       "      <td>1.9</td>\n",
       "      <td>0.075</td>\n",
       "      <td>17.0</td>\n",
       "      <td>60.0</td>\n",
       "      <td>0.9980</td>\n",
       "      <td>3.16</td>\n",
       "      <td>0.58</td>\n",
       "      <td>9.8</td>\n",
       "      <td>6</td>\n",
       "    </tr>\n",
       "    <tr>\n",
       "      <th>4</th>\n",
       "      <td>7.4</td>\n",
       "      <td>0.70</td>\n",
       "      <td>0.00</td>\n",
       "      <td>1.9</td>\n",
       "      <td>0.076</td>\n",
       "      <td>11.0</td>\n",
       "      <td>34.0</td>\n",
       "      <td>0.9978</td>\n",
       "      <td>3.51</td>\n",
       "      <td>0.56</td>\n",
       "      <td>9.4</td>\n",
       "      <td>5</td>\n",
       "    </tr>\n",
       "  </tbody>\n",
       "</table>\n",
       "</div>"
      ],
      "text/plain": [
       "   fixed acidity  volatile acidity  citric acid  residual sugar  chlorides  \\\n",
       "0            7.4              0.70         0.00             1.9      0.076   \n",
       "1            7.8              0.88         0.00             2.6      0.098   \n",
       "2            7.8              0.76         0.04             2.3      0.092   \n",
       "3           11.2              0.28         0.56             1.9      0.075   \n",
       "4            7.4              0.70         0.00             1.9      0.076   \n",
       "\n",
       "   free sulfur dioxide  total sulfur dioxide  density    pH  sulphates  \\\n",
       "0                 11.0                  34.0   0.9978  3.51       0.56   \n",
       "1                 25.0                  67.0   0.9968  3.20       0.68   \n",
       "2                 15.0                  54.0   0.9970  3.26       0.65   \n",
       "3                 17.0                  60.0   0.9980  3.16       0.58   \n",
       "4                 11.0                  34.0   0.9978  3.51       0.56   \n",
       "\n",
       "   alcohol  quality  \n",
       "0      9.4        5  \n",
       "1      9.8        5  \n",
       "2      9.8        5  \n",
       "3      9.8        6  \n",
       "4      9.4        5  "
      ]
     },
     "execution_count": 1,
     "metadata": {},
     "output_type": "execute_result"
    }
   ],
   "source": [
    "import pandas as pd\n",
    "import statsmodels.formula.api as sm\n",
    "wine = pd.read_csv(\"data/winequality-red.csv\", sep=\";\")\n",
    "wine.head()"
   ]
  },
  {
   "cell_type": "markdown",
   "id": "f8f1f913",
   "metadata": {
    "deletable": false,
    "editable": false,
    "nbgrader": {
     "cell_type": "markdown",
     "checksum": "3127864ebe4065bd31bac39a010ef3ab",
     "grade": false,
     "grade_id": "cell-63dacbfcd17a0cc6",
     "locked": true,
     "schema_version": 3,
     "solution": false,
     "task": false
    }
   },
   "source": [
    "Using `statsmodels`, code this simple linear regression:\n",
    "\n",
    "$$\n",
    "quality = \\beta_0 + \\beta_1 alcohol + \\varepsilon\n",
    "$$\n",
    "\n",
    "Save the **fitted** model in a variable called `reg1`."
   ]
  },
  {
   "cell_type": "code",
   "execution_count": 2,
   "id": "77925f9d",
   "metadata": {
    "deletable": false,
    "nbgrader": {
     "cell_type": "code",
     "checksum": "e65806b95d9604b59eed3fd3e217ddfb",
     "grade": false,
     "grade_id": "cell-12cba7ae22a27e20",
     "locked": false,
     "schema_version": 3,
     "solution": true,
     "task": false
    }
   },
   "outputs": [
    {
     "data": {
      "text/html": [
       "<table class=\"simpletable\">\n",
       "<caption>OLS Regression Results</caption>\n",
       "<tr>\n",
       "  <th>Dep. Variable:</th>         <td>quality</td>     <th>  R-squared:         </th> <td>   0.227</td>\n",
       "</tr>\n",
       "<tr>\n",
       "  <th>Model:</th>                   <td>OLS</td>       <th>  Adj. R-squared:    </th> <td>   0.226</td>\n",
       "</tr>\n",
       "<tr>\n",
       "  <th>Method:</th>             <td>Least Squares</td>  <th>  F-statistic:       </th> <td>   468.3</td>\n",
       "</tr>\n",
       "<tr>\n",
       "  <th>Date:</th>             <td>Sat, 21 Jan 2023</td> <th>  Prob (F-statistic):</th> <td>2.83e-91</td>\n",
       "</tr>\n",
       "<tr>\n",
       "  <th>Time:</th>                 <td>02:53:00</td>     <th>  Log-Likelihood:    </th> <td> -1721.1</td>\n",
       "</tr>\n",
       "<tr>\n",
       "  <th>No. Observations:</th>      <td>  1599</td>      <th>  AIC:               </th> <td>   3446.</td>\n",
       "</tr>\n",
       "<tr>\n",
       "  <th>Df Residuals:</th>          <td>  1597</td>      <th>  BIC:               </th> <td>   3457.</td>\n",
       "</tr>\n",
       "<tr>\n",
       "  <th>Df Model:</th>              <td>     1</td>      <th>                     </th>     <td> </td>   \n",
       "</tr>\n",
       "<tr>\n",
       "  <th>Covariance Type:</th>      <td>nonrobust</td>    <th>                     </th>     <td> </td>   \n",
       "</tr>\n",
       "</table>\n",
       "<table class=\"simpletable\">\n",
       "<tr>\n",
       "      <td></td>         <th>coef</th>     <th>std err</th>      <th>t</th>      <th>P>|t|</th>  <th>[0.025</th>    <th>0.975]</th>  \n",
       "</tr>\n",
       "<tr>\n",
       "  <th>Intercept</th> <td>    1.8750</td> <td>    0.175</td> <td>   10.732</td> <td> 0.000</td> <td>    1.532</td> <td>    2.218</td>\n",
       "</tr>\n",
       "<tr>\n",
       "  <th>alcohol</th>   <td>    0.3608</td> <td>    0.017</td> <td>   21.639</td> <td> 0.000</td> <td>    0.328</td> <td>    0.394</td>\n",
       "</tr>\n",
       "</table>\n",
       "<table class=\"simpletable\">\n",
       "<tr>\n",
       "  <th>Omnibus:</th>       <td>38.501</td> <th>  Durbin-Watson:     </th> <td>   1.748</td>\n",
       "</tr>\n",
       "<tr>\n",
       "  <th>Prob(Omnibus):</th> <td> 0.000</td> <th>  Jarque-Bera (JB):  </th> <td>  71.758</td>\n",
       "</tr>\n",
       "<tr>\n",
       "  <th>Skew:</th>          <td>-0.154</td> <th>  Prob(JB):          </th> <td>2.62e-16</td>\n",
       "</tr>\n",
       "<tr>\n",
       "  <th>Kurtosis:</th>      <td> 3.991</td> <th>  Cond. No.          </th> <td>    104.</td>\n",
       "</tr>\n",
       "</table><br/><br/>Notes:<br/>[1] Standard Errors assume that the covariance matrix of the errors is correctly specified."
      ],
      "text/plain": [
       "<class 'statsmodels.iolib.summary.Summary'>\n",
       "\"\"\"\n",
       "                            OLS Regression Results                            \n",
       "==============================================================================\n",
       "Dep. Variable:                quality   R-squared:                       0.227\n",
       "Model:                            OLS   Adj. R-squared:                  0.226\n",
       "Method:                 Least Squares   F-statistic:                     468.3\n",
       "Date:                Sat, 21 Jan 2023   Prob (F-statistic):           2.83e-91\n",
       "Time:                        02:53:00   Log-Likelihood:                -1721.1\n",
       "No. Observations:                1599   AIC:                             3446.\n",
       "Df Residuals:                    1597   BIC:                             3457.\n",
       "Df Model:                           1                                         \n",
       "Covariance Type:            nonrobust                                         \n",
       "==============================================================================\n",
       "                 coef    std err          t      P>|t|      [0.025      0.975]\n",
       "------------------------------------------------------------------------------\n",
       "Intercept      1.8750      0.175     10.732      0.000       1.532       2.218\n",
       "alcohol        0.3608      0.017     21.639      0.000       0.328       0.394\n",
       "==============================================================================\n",
       "Omnibus:                       38.501   Durbin-Watson:                   1.748\n",
       "Prob(Omnibus):                  0.000   Jarque-Bera (JB):               71.758\n",
       "Skew:                          -0.154   Prob(JB):                     2.62e-16\n",
       "Kurtosis:                       3.991   Cond. No.                         104.\n",
       "==============================================================================\n",
       "\n",
       "Notes:\n",
       "[1] Standard Errors assume that the covariance matrix of the errors is correctly specified.\n",
       "\"\"\""
      ]
     },
     "execution_count": 2,
     "metadata": {},
     "output_type": "execute_result"
    }
   ],
   "source": [
    "# YOUR CODE HERE\n",
    "\n",
    "reg1 = sm.ols(formula='quality ~ alcohol', data=wine).fit()\n",
    "reg1.summary()"
   ]
  },
  {
   "cell_type": "markdown",
   "id": "124a7639",
   "metadata": {
    "deletable": false,
    "editable": false,
    "nbgrader": {
     "cell_type": "markdown",
     "checksum": "9071c25069c68c04acdabc718992fdc6",
     "grade": false,
     "grade_id": "cell-95abe3c0075452d3",
     "locked": true,
     "schema_version": 3,
     "solution": false,
     "task": false
    }
   },
   "source": [
    "### Exercise 2 (1 point)\n",
    "\n",
    "Using `statsmodels`, code this multiple linear regression:\n",
    "\n",
    "$$\n",
    "quality = \\beta_0 + \\beta_1 alcohol + \\beta_2 pH + \\beta_3 sulphates + \\beta_4 density + \\beta_5 residual{\\ }sugar + \\beta_6 citric{\\ }acid + \\varepsilon\n",
    "$$\n",
    "\n",
    "Save the **fitted** model in a variable called `reg2`.\n",
    "\n",
    "**Hint:** `statsmodels` formulas expect variable names that don't have spaces in them. To include a variable name with spaces, use [`Q` syntax](https://patsy.readthedocs.io/en/latest/builtins-reference.html#patsy.builtins.Q) (`Q` stands for \"quote\") like this: `Q(\"total sulfur dioxide\")`"
   ]
  },
  {
   "cell_type": "code",
   "execution_count": 3,
   "id": "3e627b43",
   "metadata": {
    "deletable": false,
    "nbgrader": {
     "cell_type": "code",
     "checksum": "dfb0ff637df14cab57dd10f8e7318a4e",
     "grade": false,
     "grade_id": "cell-d1e86a6b82bf94b9",
     "locked": false,
     "schema_version": 3,
     "solution": true,
     "task": false
    }
   },
   "outputs": [
    {
     "data": {
      "text/html": [
       "<table class=\"simpletable\">\n",
       "<caption>OLS Regression Results</caption>\n",
       "<tr>\n",
       "  <th>Dep. Variable:</th>         <td>quality</td>     <th>  R-squared:         </th> <td>   0.289</td> \n",
       "</tr>\n",
       "<tr>\n",
       "  <th>Model:</th>                   <td>OLS</td>       <th>  Adj. R-squared:    </th> <td>   0.286</td> \n",
       "</tr>\n",
       "<tr>\n",
       "  <th>Method:</th>             <td>Least Squares</td>  <th>  F-statistic:       </th> <td>   107.6</td> \n",
       "</tr>\n",
       "<tr>\n",
       "  <th>Date:</th>             <td>Sat, 21 Jan 2023</td> <th>  Prob (F-statistic):</th> <td>5.38e-114</td>\n",
       "</tr>\n",
       "<tr>\n",
       "  <th>Time:</th>                 <td>02:53:04</td>     <th>  Log-Likelihood:    </th> <td> -1654.4</td> \n",
       "</tr>\n",
       "<tr>\n",
       "  <th>No. Observations:</th>      <td>  1599</td>      <th>  AIC:               </th> <td>   3323.</td> \n",
       "</tr>\n",
       "<tr>\n",
       "  <th>Df Residuals:</th>          <td>  1592</td>      <th>  BIC:               </th> <td>   3361.</td> \n",
       "</tr>\n",
       "<tr>\n",
       "  <th>Df Model:</th>              <td>     6</td>      <th>                     </th>     <td> </td>    \n",
       "</tr>\n",
       "<tr>\n",
       "  <th>Covariance Type:</th>      <td>nonrobust</td>    <th>                     </th>     <td> </td>    \n",
       "</tr>\n",
       "</table>\n",
       "<table class=\"simpletable\">\n",
       "<tr>\n",
       "           <td></td>              <th>coef</th>     <th>std err</th>      <th>t</th>      <th>P>|t|</th>  <th>[0.025</th>    <th>0.975]</th>  \n",
       "</tr>\n",
       "<tr>\n",
       "  <th>Intercept</th>           <td>   16.9484</td> <td>   13.314</td> <td>    1.273</td> <td> 0.203</td> <td>   -9.166</td> <td>   43.063</td>\n",
       "</tr>\n",
       "<tr>\n",
       "  <th>alcohol</th>             <td>    0.3409</td> <td>    0.022</td> <td>   15.822</td> <td> 0.000</td> <td>    0.299</td> <td>    0.383</td>\n",
       "</tr>\n",
       "<tr>\n",
       "  <th>pH</th>                  <td>   -0.4047</td> <td>    0.139</td> <td>   -2.911</td> <td> 0.004</td> <td>   -0.677</td> <td>   -0.132</td>\n",
       "</tr>\n",
       "<tr>\n",
       "  <th>Q(\"sulphates\")</th>      <td>    0.8048</td> <td>    0.107</td> <td>    7.498</td> <td> 0.000</td> <td>    0.594</td> <td>    1.015</td>\n",
       "</tr>\n",
       "<tr>\n",
       "  <th>density</th>             <td>  -14.1879</td> <td>   13.255</td> <td>   -1.070</td> <td> 0.285</td> <td>  -40.187</td> <td>   11.811</td>\n",
       "</tr>\n",
       "<tr>\n",
       "  <th>Q(\"residual sugar\")</th> <td>   -0.0085</td> <td>    0.014</td> <td>   -0.626</td> <td> 0.532</td> <td>   -0.035</td> <td>    0.018</td>\n",
       "</tr>\n",
       "<tr>\n",
       "  <th>Q(\"citric acid\")</th>    <td>    0.3996</td> <td>    0.121</td> <td>    3.306</td> <td> 0.001</td> <td>    0.162</td> <td>    0.637</td>\n",
       "</tr>\n",
       "</table>\n",
       "<table class=\"simpletable\">\n",
       "<tr>\n",
       "  <th>Omnibus:</th>       <td>37.898</td> <th>  Durbin-Watson:     </th> <td>   1.745</td>\n",
       "</tr>\n",
       "<tr>\n",
       "  <th>Prob(Omnibus):</th> <td> 0.000</td> <th>  Jarque-Bera (JB):  </th> <td>  59.752</td>\n",
       "</tr>\n",
       "<tr>\n",
       "  <th>Skew:</th>          <td>-0.216</td> <th>  Prob(JB):          </th> <td>1.06e-13</td>\n",
       "</tr>\n",
       "<tr>\n",
       "  <th>Kurtosis:</th>      <td> 3.843</td> <th>  Cond. No.          </th> <td>1.25e+04</td>\n",
       "</tr>\n",
       "</table><br/><br/>Notes:<br/>[1] Standard Errors assume that the covariance matrix of the errors is correctly specified.<br/>[2] The condition number is large, 1.25e+04. This might indicate that there are<br/>strong multicollinearity or other numerical problems."
      ],
      "text/plain": [
       "<class 'statsmodels.iolib.summary.Summary'>\n",
       "\"\"\"\n",
       "                            OLS Regression Results                            \n",
       "==============================================================================\n",
       "Dep. Variable:                quality   R-squared:                       0.289\n",
       "Model:                            OLS   Adj. R-squared:                  0.286\n",
       "Method:                 Least Squares   F-statistic:                     107.6\n",
       "Date:                Sat, 21 Jan 2023   Prob (F-statistic):          5.38e-114\n",
       "Time:                        02:53:04   Log-Likelihood:                -1654.4\n",
       "No. Observations:                1599   AIC:                             3323.\n",
       "Df Residuals:                    1592   BIC:                             3361.\n",
       "Df Model:                           6                                         \n",
       "Covariance Type:            nonrobust                                         \n",
       "=======================================================================================\n",
       "                          coef    std err          t      P>|t|      [0.025      0.975]\n",
       "---------------------------------------------------------------------------------------\n",
       "Intercept              16.9484     13.314      1.273      0.203      -9.166      43.063\n",
       "alcohol                 0.3409      0.022     15.822      0.000       0.299       0.383\n",
       "pH                     -0.4047      0.139     -2.911      0.004      -0.677      -0.132\n",
       "Q(\"sulphates\")          0.8048      0.107      7.498      0.000       0.594       1.015\n",
       "density               -14.1879     13.255     -1.070      0.285     -40.187      11.811\n",
       "Q(\"residual sugar\")    -0.0085      0.014     -0.626      0.532      -0.035       0.018\n",
       "Q(\"citric acid\")        0.3996      0.121      3.306      0.001       0.162       0.637\n",
       "==============================================================================\n",
       "Omnibus:                       37.898   Durbin-Watson:                   1.745\n",
       "Prob(Omnibus):                  0.000   Jarque-Bera (JB):               59.752\n",
       "Skew:                          -0.216   Prob(JB):                     1.06e-13\n",
       "Kurtosis:                       3.843   Cond. No.                     1.25e+04\n",
       "==============================================================================\n",
       "\n",
       "Notes:\n",
       "[1] Standard Errors assume that the covariance matrix of the errors is correctly specified.\n",
       "[2] The condition number is large, 1.25e+04. This might indicate that there are\n",
       "strong multicollinearity or other numerical problems.\n",
       "\"\"\""
      ]
     },
     "execution_count": 3,
     "metadata": {},
     "output_type": "execute_result"
    }
   ],
   "source": [
    "# YOUR CODE HERE\n",
    "reg2 = sm.ols(formula='quality ~ alcohol + pH + Q(\"sulphates\") + density + Q(\"residual sugar\") + Q(\"citric acid\")', data=wine).fit()\n",
    "reg2.summary()"
   ]
  },
  {
   "cell_type": "markdown",
   "id": "bd178cae",
   "metadata": {
    "deletable": false,
    "editable": false,
    "nbgrader": {
     "cell_type": "markdown",
     "checksum": "e188a3303053d1582775f229551872b8",
     "grade": false,
     "grade_id": "cell-f7d7f1c4f5cf3001",
     "locked": true,
     "schema_version": 3,
     "solution": false,
     "task": false
    }
   },
   "source": [
    "### Exercise 3 (1 point)\n",
    "\n",
    "Complete the code in the below cell to extract the following values from the model you fitted in the previous exercise:\n",
    "\n",
    "* The $R^2$ (save it in a variable called `rsq`)\n",
    "* The intercept $\\beta_0$ (save it in a variable called `beta0`)\n",
    "* The coefficient of the $alcohol$ variable, $\\beta_1$ (save it in a variable called `beta1`)\n",
    "\n",
    "**Note:** Do not change the name of the function."
   ]
  },
  {
   "cell_type": "code",
   "execution_count": 4,
   "id": "bbd9e203",
   "metadata": {
    "deletable": false,
    "nbgrader": {
     "cell_type": "code",
     "checksum": "136c31f995dfed5189e64dd9d40518ba",
     "grade": false,
     "grade_id": "cell-89c7e70a8af98a29",
     "locked": false,
     "schema_version": 3,
     "solution": true,
     "task": false
    }
   },
   "outputs": [
    {
     "name": "stdout",
     "output_type": "stream",
     "text": [
      "R squared:  0.28855431357406913\n",
      "Intercept:  16.948376515840327\n",
      "Beta 1:  0.3408938824939653\n"
     ]
    }
   ],
   "source": [
    "def extract_results(fitted_model):\n",
    "    \"\"\"\n",
    "    Extracts R squared, intercept and beta 1 from the model.\n",
    "    \"\"\"\n",
    "    # YOUR CODE HERE\n",
    "    rsq = fitted_model.rsquared\n",
    "    beta0 = fitted_model.params[0]\n",
    "    beta1 = fitted_model.params['alcohol']\n",
    "    return rsq, beta0, beta1\n",
    "\n",
    "rsq, beta0, beta1 = extract_results(reg2)\n",
    "print(\"R squared: \", rsq)\n",
    "print(\"Intercept: \", beta0)\n",
    "print(\"Beta 1: \", beta1)"
   ]
  },
  {
   "cell_type": "markdown",
   "id": "2d7a04b4",
   "metadata": {
    "deletable": false,
    "editable": false,
    "nbgrader": {
     "cell_type": "markdown",
     "checksum": "6b5a5ce52ebd50ddb6d0430df700fdea",
     "grade": false,
     "grade_id": "cell-fe53665282385538",
     "locked": true,
     "schema_version": 3,
     "solution": false,
     "task": false
    }
   },
   "source": [
    "## Testing cells\n",
    "\n",
    "Run the below cells to check your answers. Make sure you run your solution cells first before running the cells below, otherwise you will get an error when checking your answers."
   ]
  },
  {
   "cell_type": "code",
   "execution_count": 5,
   "id": "dbb87982",
   "metadata": {
    "deletable": false,
    "editable": false,
    "nbgrader": {
     "cell_type": "code",
     "checksum": "9e23c8802fa09edb41590818c278bd6e",
     "grade": true,
     "grade_id": "cell-644427ae97585a8f",
     "locked": true,
     "points": 1,
     "schema_version": 3,
     "solution": false,
     "task": false
    }
   },
   "outputs": [
    {
     "name": "stdout",
     "output_type": "stream",
     "text": [
      "Exercise 1 passed the preliminary sanity check.\n"
     ]
    }
   ],
   "source": [
    "# Ex. 1\n",
    "assert \"reg1\" in globals(), \"Ex. 1 - You need to create the reg1 variable!\"\n",
    "assert type(reg1).__name__ == 'RegressionResultsWrapper', \"Ex. 1 - The reg1 variable is not a statsmodels regression model! Did you forget to fit it? Remember to use the .fit() method!\"\n",
    "print(\"Exercise 1 passed the preliminary sanity check.\")"
   ]
  },
  {
   "cell_type": "code",
   "execution_count": 6,
   "id": "5d582f63",
   "metadata": {
    "deletable": false,
    "editable": false,
    "nbgrader": {
     "cell_type": "code",
     "checksum": "64b22f2714634d0b5a1609f97173ccc2",
     "grade": true,
     "grade_id": "cell-967d7c9f19f2866e",
     "locked": true,
     "points": 1,
     "schema_version": 3,
     "solution": false,
     "task": false
    }
   },
   "outputs": [
    {
     "name": "stdout",
     "output_type": "stream",
     "text": [
      "Exercise 2 passed the preliminary sanity check.\n"
     ]
    }
   ],
   "source": [
    "# Ex. 2\n",
    "assert \"reg2\" in globals(), \"Ex. 2 - You need to create the reg2 variable!\"\n",
    "assert type(reg2).__name__ == 'RegressionResultsWrapper', \"Ex. 2 - The reg2 variable is not a statsmodels regression model! Did you forget to fit it? Remember to use the .fit() method!\"\n",
    "assert len(reg2.params) == 7, \"Ex. 2 - Your regression has either too many or too few input variables! There must be seven betas: One intercept and six input variables\"\n",
    "print(\"Exercise 2 passed the preliminary sanity check.\")"
   ]
  },
  {
   "cell_type": "code",
   "execution_count": 7,
   "id": "decd66d1",
   "metadata": {
    "deletable": false,
    "editable": false,
    "nbgrader": {
     "cell_type": "code",
     "checksum": "6040034819b53297494f41e128fc5c4f",
     "grade": true,
     "grade_id": "cell-42cea078db9cfba8",
     "locked": true,
     "points": 1,
     "schema_version": 3,
     "solution": false,
     "task": false
    }
   },
   "outputs": [
    {
     "name": "stdout",
     "output_type": "stream",
     "text": [
      "Exercise 3 passed the preliminary sanity check.\n"
     ]
    }
   ],
   "source": [
    "# Ex. 3\n",
    "assert \"extract_results\" in globals(), \"Ex. 3 - You need to create the extract_results function! Did you forget to run the cell where you defined it?\"\n",
    "print(\"Exercise 3 passed the preliminary sanity check.\")"
   ]
  },
  {
   "cell_type": "markdown",
   "id": "a0b76d6a",
   "metadata": {
    "deletable": false,
    "editable": false,
    "nbgrader": {
     "cell_type": "markdown",
     "checksum": "38383b2921b71c1b90ac1c3514664901",
     "grade": false,
     "grade_id": "cell-4f05889675a2a81c",
     "locked": true,
     "schema_version": 3,
     "solution": false,
     "task": false
    }
   },
   "source": [
    "## Attribution\n",
    "\n",
    "\"Wine quality\", October 07, 2009, Cortez, Paulo *et al.*, Creative Commons Attribution 4.0 International license, https://archive-beta.ics.uci.edu/ml/datasets/wine+quality"
   ]
  }
 ],
 "metadata": {
  "c1_recart": "7.44.0-57c20131aabc1dc2a8c675852d80a7da",
  "kernelspec": {
   "display_name": "Python 3 (ipykernel)",
   "language": "python",
   "name": "python3"
  },
  "language_info": {
   "codemirror_mode": {
    "name": "ipython",
    "version": 3
   },
   "file_extension": ".py",
   "mimetype": "text/x-python",
   "name": "python",
   "nbconvert_exporter": "python",
   "pygments_lexer": "ipython3",
   "version": "3.9.13"
  }
 },
 "nbformat": 4,
 "nbformat_minor": 5
}
